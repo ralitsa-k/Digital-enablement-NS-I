{
 "cells": [
  {
   "cell_type": "code",
   "execution_count": 1,
   "id": "43d37941",
   "metadata": {},
   "outputs": [],
   "source": [
    "import pandas as pd\n",
    "import pandasql as ps\n",
    "import datetime\n",
    "import os"
   ]
  },
  {
   "cell_type": "code",
   "execution_count": 2,
   "id": "97c3a814",
   "metadata": {},
   "outputs": [],
   "source": [
    "filepath = \"C:/Projects/NS&I/\""
   ]
  },
  {
   "cell_type": "code",
   "execution_count": 3,
   "id": "8e75a9fd",
   "metadata": {
    "scrolled": true
   },
   "outputs": [
    {
     "data": {
      "text/plain": [
       "(['employees.parquet',\n",
       "  'employees2.parquet',\n",
       "  'multi_availability.parquet',\n",
       "  'multi_response.parquet',\n",
       "  'nicecxone_callanalytics.parquet',\n",
       "  'nicecxone_customersatisfaction.parquet',\n",
       "  'nicecxone_message_responses.parquet',\n",
       "  'servicenow_caseclosed 1.parquet',\n",
       "  'servicenow_caseclosed.parquet',\n",
       "  'servicenow_casecreated.parquet',\n",
       "  'servicenow_casereopened.parquet',\n",
       "  'servicenow_changeincidents.parquet',\n",
       "  'servicenow_changerecordclosed.parquet',\n",
       "  'servicenow_changerecordopened.parquet',\n",
       "  'servicenow_changerecordupdated.parquet',\n",
       "  'servicenow_complaintresponse 5.parquet',\n",
       "  'servicenow_complaintresponse.parquet',\n",
       "  'servicenow_deployedfixes 2.parquet',\n",
       "  'servicenow_deployedfixes.parquet',\n",
       "  'servicenow_firstcontactresolution.parquet',\n",
       "  'servicenow_foscomplaint 2.parquet',\n",
       "  'servicenow_foscomplaint.parquet',\n",
       "  'servicenow_incidentclosed.parquet',\n",
       "  'servicenow_incidentopened.parquet',\n",
       "  'servicenow_permanentfixavailable 2.parquet',\n",
       "  'servicenow_permfixavailable.parquet',\n",
       "  'servicenow_rca 2.parquet',\n",
       "  'servicenow_rca.parquet',\n",
       "  'servicenow_resolvedissues 2.parquet',\n",
       "  'servicenow_resolvedissues.parquet',\n",
       "  'servicenow_responded.parquet',\n",
       "  'servicenow_servicerestored.parquet',\n",
       "  'servicenow_vulnerability.parquet',\n",
       "  'service_now_bonding 1.parquet',\n",
       "  'service_now_calculation_api 1.parquet',\n",
       "  'service_now_cancelled_application 1.parquet',\n",
       "  'service_now_rejected_application 1.parquet',\n",
       "  'sps_chequedestroyed.parquet',\n",
       "  'sps_chequeprocessed.parquet',\n",
       "  'sps_chequereceived.parquet',\n",
       "  'sps_cherish_document_despatched.parquet',\n",
       "  'sps_cherish_document_received.parquet',\n",
       "  'sps_postoutrequests.parquet',\n",
       "  'ssl_training.parquet',\n",
       "  'ssl_training_schedule 2.parquet',\n",
       "  'ssl_training_schedule.parquet',\n",
       "  'wf_employeetrainings.parquet'],\n",
       " 47)"
      ]
     },
     "execution_count": 3,
     "metadata": {},
     "output_type": "execute_result"
    }
   ],
   "source": [
    "lst_parquet_files = os.listdir(filepath +'/mockfiles')\n",
    "lst_parquet_files,len(lst_parquet_files)"
   ]
  },
  {
   "cell_type": "code",
   "execution_count": 4,
   "id": "2c29195e",
   "metadata": {},
   "outputs": [],
   "source": [
    "## calling in all the dataframes so I can have a look at what's contained:\n",
    "\n",
    "df_employees_parquet = pd.read_parquet(filepath+'/mockfiles/employees.parquet')\n",
    "df_employees2 = pd.read_parquet(filepath+'/mockfiles/employees2.parquet')\n",
    "df_multi_availability = pd.read_parquet(filepath+'/mockfiles/multi_availability.parquet')\n",
    "df_multi_response = pd.read_parquet(filepath+'/mockfiles/multi_response.parquet')\n",
    "df_nicecxone_callanalytics = pd.read_parquet(filepath+'/mockfiles/nicecxone_callanalytics.parquet')\n",
    "df_nicecxone_customersatisfaction = pd.read_parquet(filepath+'/mockfiles/nicecxone_customersatisfaction.parquet')\n",
    "df_servicenow_casereopened = pd.read_parquet(filepath+'/mockfiles/servicenow_casereopened.parquet')\n",
    "df_servicenow_changeincidents = pd.read_parquet(filepath+'/mockfiles/servicenow_changeincidents.parquet')\n",
    "df_servicenow_changerecordclosed = pd.read_parquet(filepath+'/mockfiles/servicenow_changerecordclosed.parquet')\n",
    "df_servicenow_changerecordopened = pd.read_parquet(filepath+'/mockfiles/servicenow_changerecordopened.parquet')\n",
    "df_servicenow_changerecordupdated = pd.read_parquet(filepath+'/mockfiles/servicenow_changerecordupdated.parquet')\n",
    "df_servicenow_firstcontactresolution = pd.read_parquet(filepath+'/mockfiles/servicenow_firstcontactresolution.parquet')\n",
    "df_servicenow_incidentclosed = pd.read_parquet(filepath+'/mockfiles/servicenow_incidentclosed.parquet')\n",
    "df_servicenow_incidentopened = pd.read_parquet(filepath+'/mockfiles/servicenow_incidentopened.parquet')\n",
    "df_servicenow_servicerestored = pd.read_parquet(filepath+'/mockfiles/servicenow_servicerestored.parquet')\n",
    "df_sps_chequedestroyed = pd.read_parquet(filepath+'/mockfiles/sps_chequedestroyed.parquet')\n",
    "df_sps_chequeprocessed = pd.read_parquet(filepath+'/mockfiles/sps_chequeprocessed.parquet')\n",
    "df_sps_chequereceived = pd.read_parquet(filepath+'/mockfiles/sps_chequereceived.parquet')\n",
    "df_sps_cherish_document_despatched = pd.read_parquet(filepath+'/mockfiles/sps_cherish_document_despatched.parquet')\n",
    "df_sps_cherish_document_received = pd.read_parquet(filepath+'/mockfiles/sps_cherish_document_received.parquet')\n",
    "df_sps_postoutrequests = pd.read_parquet(filepath+'/mockfiles/sps_postoutrequests.parquet')\n",
    "df_wf_employeetrainings = pd.read_parquet(filepath+'/mockfiles/wf_employeetrainings.parquet')\n",
    "df_servicenow_complaintresponse5 = pd.read_parquet(filepath+'/mockfiles/servicenow_complaintresponse 5.parquet')\n",
    "df_servicenow_permanentfixavailable2 = pd.read_parquet(filepath+'/mockfiles/servicenow_permanentfixavailable 2.parquet')\n",
    "df_servicenow_resolvedissues = pd.read_parquet(filepath+'/mockfiles/servicenow_resolvedissues 2.parquet')\n",
    "df_servicenow_deployedfixes = pd.read_parquet(filepath+'/mockfiles/servicenow_deployedfixes 2.parquet')\n",
    "df_servicenow_rca = pd.read_parquet(filepath+'/mockfiles/servicenow_rca 2.parquet')\n",
    "df_servicenow_foscomplaint = pd.read_parquet(filepath+'/mockfiles/servicenow_foscomplaint 2.parquet')\n",
    "df_servicenow_caseclosed = pd.read_parquet(filepath+'/mockfiles/servicenow_caseclosed 1.parquet')\n",
    "df_ssl_training = pd.read_parquet(filepath+'/mockfiles/ssl_training.parquet')\n",
    "df_ssl_training_schedule = pd.read_parquet(filepath+'/mockfiles/ssl_training_schedule.parquet')\n",
    "df_ssl_training_schedule2 = pd.read_parquet(filepath+'/mockfiles/ssl_training_schedule 2.parquet')\n",
    "df_sps_cherish_documents = pd.merge(df_sps_cherish_document_received, df_sps_cherish_document_despatched[['customer_id', 'despatched_timestamp']], on='customer_id', how='left')\n",
    "df_sps_cheque = pd.merge(df_sps_chequereceived, df_sps_chequeprocessed[['cheque_id', 'processed_timestamp']], on='cheque_id', how='left')\n",
    "df_servicenow_responded = pd.read_parquet(filepath+'/mockfiles/servicenow_responded.parquet')\n",
    "df_nicecxone_message_responses = pd.read_parquet(filepath+'/mockfiles/nicecxone_message_responses.parquet')\n",
    "df_servicenow_vulnerability = pd.read_parquet(filepath+'/mockfiles/servicenow_vulnerability.parquet')\n",
    "## add .info() to the end of a df to see a description of it e.g df_nicecxone_callanalytics.info()\n"
   ]
  },
  {
   "cell_type": "code",
   "execution_count": 5,
   "id": "7687c570",
   "metadata": {},
   "outputs": [],
   "source": [
    "## converting the date column to proper format\n",
    "df_nicecxone_callanalytics['created_timestamp']=pd.to_datetime(df_nicecxone_callanalytics['created_timestamp'])\n",
    "df_nicecxone_customersatisfaction['created_timestamp']=pd.to_datetime(df_nicecxone_customersatisfaction['created_timestamp'])\n",
    "df_servicenow_firstcontactresolution['created_timestamp']=pd.to_datetime(df_servicenow_firstcontactresolution['created_timestamp'],infer_datetime_format=True)\n",
    "df_servicenow_firstcontactresolution['status_timestamp']=pd.to_datetime(df_servicenow_firstcontactresolution['status_timestamp'],infer_datetime_format=True)\n",
    "df_sps_chequereceived['recevied_timestamp']=pd.to_datetime(df_sps_chequereceived['recevied_timestamp'],format = '%d/%m/%Y %H:%M')\n",
    "df_sps_chequeprocessed['processed_timestamp']=pd.to_datetime(df_sps_chequeprocessed['processed_timestamp'],format = '%d/%m/%Y %H:%M')\n",
    "df_nicecxone_message_responses['created_timestamp']=pd.to_datetime(df_nicecxone_message_responses['created_timestamp'],infer_datetime_format=True)\n",
    "df_ssl_training['training_completion_date']=pd.to_datetime(df_ssl_training['training_completion_date'],infer_datetime_format=True)\n",
    "df_employees2['account_join_date']=pd.to_datetime(df_employees2['account_join_date'],infer_datetime_format=True) \n",
    "df_employees2['end_date']=pd.to_datetime(df_employees2['end_date'],infer_datetime_format=True) \n",
    "df_ssl_training_schedule2['training_due_date']=pd.to_datetime(df_ssl_training_schedule2['training_due_date'],infer_datetime_format=True)  \n",
    "df_servicenow_caseclosed['created_timestamp']=pd.to_datetime(df_servicenow_caseclosed['created_timestamp'],infer_datetime_format=True)  \n",
    "df_servicenow_responded['created_timestamp']=pd.to_datetime(df_servicenow_responded['created_timestamp'],infer_datetime_format=True)  \n",
    "df_servicenow_vulnerability['created_timestamp']=pd.to_datetime(df_servicenow_vulnerability['created_timestamp'],infer_datetime_format=True)  \n",
    "df_servicenow_vulnerability['closed_timestamp']=pd.to_datetime(df_servicenow_vulnerability['closed_timestamp'],infer_datetime_format=True)  \n",
    "\n"
   ]
  },
  {
   "cell_type": "code",
   "execution_count": 6,
   "id": "2480cbd5",
   "metadata": {},
   "outputs": [],
   "source": [
    "## converting back to parquet with the right date formats\n",
    "df_employees2.to_parquet(filepath+'/mockfiles/employees2.parquet') # filepath and filename (mockfile)\n",
    "df_ssl_training_schedule2.to_parquet(filepath+'/mockfiles/ssl_training_schedule 2.parquet')\n",
    "df_ssl_training.to_parquet(filepath+'/mockfiles/ssl_training.parquet')\n",
    "df_nicecxone_message_responses.to_parquet(filepath+'/mockfiles/nicecxone_message_responses.parquet')\n",
    "df_servicenow_caseclosed.to_parquet(filepath+'/mockfiles/servicenow_caseclosed 1.parquet')\n",
    "df_servicenow_responded.to_parquet(filepath+'/mockfiles/servicenow_responded.parquet')\n",
    "df_servicenow_vulnerability.to_parquet(filepath+'/mockfiles/servicenow_vulnerability.parquet')\n"
   ]
  },
  {
   "cell_type": "code",
   "execution_count": 81,
   "id": "6c8b9577",
   "metadata": {},
   "outputs": [],
   "source": [
    "## check date formats\n",
    "#df_employees2\n",
    "#df_ssl_training_schedule2\n",
    "#df_ssl_training\n",
    "#df_nicecxone_message_responses\n",
    "#df_servicenow_caseclosed\n",
    "#df_servicenow_responded\n"
   ]
  },
  {
   "cell_type": "markdown",
   "id": "b2991eb5",
   "metadata": {},
   "source": [
    "## KPI 10.1\n",
    "### ========================\n",
    "#### Critical Vulnerability Patches Deployed:\n",
    "#### for today-30 to today\n",
    "#### where criticality_rating = 'Critical'\n",
    "#### s1. count records\n",
    "#### s2. count records where closed_timestamp - created_timestamp <= 5 days\n",
    "#### s3. s2/s1*100"
   ]
  },
  {
   "cell_type": "code",
   "execution_count": 7,
   "id": "85fdf9b0",
   "metadata": {},
   "outputs": [
    {
     "name": "stdout",
     "output_type": "stream",
     "text": [
      "  KPI_NO                                 KPI Name    KPI_Date  KPI Value\n",
      "0   10.1  Critical Vulnerability Patches Deployed  2024-04-16        0.0\n"
     ]
    }
   ],
   "source": [
    "sql_query = \"\"\" \n",
    "SELECT \"10.1\" AS KPI_NO, \"Critical Vulnerability Patches Deployed\" AS \"KPI Name\", date('now') AS KPI_Date,  \n",
    "ROUND(COUNT(CASE WHEN julianday('closed_timestamp') - julianday(created_timestamp) <= 5 THEN 1 END) * 100.0 / COUNT(*),2) AS 'KPI Value' \n",
    "\n",
    "FROM df_servicenow_vulnerability\n",
    "WHERE \n",
    "criticality  = 'Critical'\n",
    "AND julianday('now') - julianday(created_timestamp) <= 30\n",
    "            \"\"\"\n",
    "print(ps.sqldf(sql_query,locals()))"
   ]
  },
  {
   "cell_type": "markdown",
   "id": "76ead084",
   "metadata": {},
   "source": [
    "## KPI 10.2\n",
    "### ========================\n",
    "#### High, Medium and Low Vulnerability Patches Deployed:\n",
    "#### for today-30 to today\n",
    "#### where criticality_rating = 'High'\n",
    "#### s1. count records\n",
    "#### s2. count records where closed_timestamp - created_timestamp <= 14 days\n",
    "#### s3. s2/s1*100"
   ]
  },
  {
   "cell_type": "code",
   "execution_count": 8,
   "id": "4c50307a",
   "metadata": {},
   "outputs": [
    {
     "name": "stdout",
     "output_type": "stream",
     "text": [
      "  KPI_NO                                           KPI Name    KPI_Date  \\\n",
      "0   10.2  High, Medium and Low Vulnerability Patches Dep...  2024-04-16   \n",
      "\n",
      "   KPI Value  \n",
      "0        0.0  \n"
     ]
    }
   ],
   "source": [
    "sql_query = \"\"\" \n",
    "SELECT \"10.2\" AS KPI_NO, \"High, Medium and Low Vulnerability Patches Deployed\" AS \"KPI Name\", date('now') AS KPI_Date,  \n",
    "ROUND(COUNT(CASE WHEN julianday('closed_timestamp') - julianday(created_timestamp) <= 14 THEN 1 END) * 100.0 / COUNT(*),2) AS 'KPI Value' \n",
    "\n",
    "FROM df_servicenow_vulnerability\n",
    "WHERE \n",
    "criticality  = 'High'\n",
    "AND julianday('now') - julianday(created_timestamp) <= 30\n",
    "            \"\"\"\n",
    "print(ps.sqldf(sql_query,locals()))"
   ]
  },
  {
   "cell_type": "code",
   "execution_count": null,
   "id": "a1d4e484",
   "metadata": {},
   "outputs": [],
   "source": []
  }
 ],
 "metadata": {
  "kernelspec": {
   "display_name": "Python 3 (ipykernel)",
   "language": "python",
   "name": "python3"
  },
  "language_info": {
   "codemirror_mode": {
    "name": "ipython",
    "version": 3
   },
   "file_extension": ".py",
   "mimetype": "text/x-python",
   "name": "python",
   "nbconvert_exporter": "python",
   "pygments_lexer": "ipython3",
   "version": "3.11.3"
  }
 },
 "nbformat": 4,
 "nbformat_minor": 5
}
