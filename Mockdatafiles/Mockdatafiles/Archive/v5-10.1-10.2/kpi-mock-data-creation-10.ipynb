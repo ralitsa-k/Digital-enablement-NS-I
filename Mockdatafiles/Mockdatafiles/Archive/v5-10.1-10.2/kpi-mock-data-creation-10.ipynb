{
 "cells": [
  {
   "cell_type": "markdown",
   "metadata": {},
   "source": [
    "## KPI Mock data creation and SQL Logic v5 #10 (10.1, 10.2)"
   ]
  },
  {
   "cell_type": "markdown",
   "metadata": {},
   "source": [
    "### Create Mock Data\n",
    "\n",
    "Daily Batch Feed 28\n",
    "Service Now Vulnerability\n",
    "\n",
    "Includes the following columns:\n",
    "- ticket_id\n",
    "- created_timestamp\n",
    "- criticality\n",
    "- closed_timestamps"
   ]
  },
  {
   "cell_type": "code",
   "execution_count": 1,
   "metadata": {},
   "outputs": [
    {
     "name": "stdout",
     "output_type": "stream",
     "text": [
      "     ticket_id    created_timestamp criticality     closed_timestamp\n",
      "0  TID00000001  2024-03-14 18:57:55        High  2024-03-15 18:57:55\n",
      "1  TID00000002  2024-02-17 21:22:34         Low  2024-02-19 21:22:34\n",
      "2  TID00000003  2024-03-23 11:27:07        High  2024-04-09 11:27:07\n",
      "3  TID00000004  2024-01-19 14:52:21      Medium  2024-01-20 14:52:21\n",
      "4  TID00000005  2024-02-06 14:28:16    Critical  2024-02-07 14:28:16\n",
      "Data saved to 'servicenow_vulnerability.parquet'.\n",
      "ticket_id            object\n",
      "created_timestamp    object\n",
      "criticality          object\n",
      "closed_timestamp     object\n",
      "dtype: object\n",
      "------------------------\n"
     ]
    }
   ],
   "source": [
    "# Mock data for Batch #28 - Request For Information\n",
    "\n",
    "import pandas as pd\n",
    "import numpy as np\n",
    "from datetime import datetime\n",
    "\n",
    "\n",
    "### Create Batch 28\n",
    "# Set conditions\n",
    "np.random.seed(0)\n",
    "batch28_output_filename = 'servicenow_vulnerability.parquet'\n",
    "num_samples = 2000\n",
    "\n",
    "length_min_days = 1\n",
    "length_max_days = 18\n",
    "criticality_types_list = ['Critical','High','Medium','Low']\n",
    "\n",
    "ticket_ids = ['TID' + f'{i:08}' for i in range(1, num_samples + 1)]\n",
    "\n",
    "start_date = pd.to_datetime('2024-01-01')\n",
    "end_date = pd.to_datetime(datetime.now().strftime('%Y-%m-%d')) \n",
    "timestamps = pd.to_datetime(np.random.randint(start_date.value, end_date.value, num_samples), unit='ns')\n",
    "\n",
    "df = pd.DataFrame({\n",
    "    'ticket_id': ticket_ids,\n",
    "    'created_timestamp': timestamps\n",
    "})\n",
    "\n",
    "df['criticality'] = np.random.choice(criticality_types_list, size=len(df))\n",
    "\n",
    "df['created_timestamp'] = pd.to_datetime(df['created_timestamp']).dt.round('s')\n",
    "\n",
    "random_days = pd.to_timedelta(np.random.randint(length_min_days, length_max_days, size=len(df)), unit='D')\n",
    "df['closed_timestamp'] = df['created_timestamp'] + random_days\n",
    "df['closed_timestamp'] = pd.to_datetime(df['closed_timestamp']).dt.round('s')\n",
    "\n",
    "df['created_timestamp'] = df['created_timestamp'].astype(str)\n",
    "df['closed_timestamp'] = df['closed_timestamp'].astype(str)\n",
    "\n",
    "\n",
    "df.to_parquet(batch28_output_filename, engine='pyarrow', index=False)\n",
    "\n",
    "print(df.head())\n",
    "print(f\"Data saved to '{batch28_output_filename}'.\")\n",
    "print(df.dtypes)\n",
    "print('------------------------')\n",
    "\n",
    "\n"
   ]
  },
  {
   "cell_type": "markdown",
   "metadata": {},
   "source": [
    "### SQL Logic for KPI 10.1\n",
    "\n",
    "10.1 Batch 28\n",
    "for today-30 to today \\\n",
    "where criticality_rating = 'Critical' \\\n",
    "s1. count records \\\n",
    "s2. count records where closed_timestamp - created_timestamp <= 5 days \\\n",
    "s3. s2/s1*100"
   ]
  },
  {
   "cell_type": "code",
   "execution_count": null,
   "metadata": {},
   "outputs": [],
   "source": [
    "# SQL logic used in ETL_KPI_data_KPI10.1 in AWS Glue\n",
    "# Note, some functions have been changed to accomdate the change from SQLite to Postgres\n",
    "\n",
    "WITH current_date_id AS (\n",
    "    SELECT myDimDate.pk_id\n",
    "    FROM myDimDate\n",
    "    WHERE myDimDate.date = CURRENT_DATE\n",
    ")\n",
    ",\n",
    "current_kpi_id AS (\n",
    "    SELECT pk_id\n",
    "    FROM myDimKPI\n",
    "    WHERE kpi_reference = '10.1'\n",
    ")\n",
    ",\n",
    "selected_df AS (\n",
    "    SELECT *\n",
    "    ,EXTRACT(DAY FROM (closed_timestamp - created_timestamp)) AS days_to_process\n",
    "    FROM (\n",
    "        SELECT *\n",
    "        FROM df\n",
    "        WHERE criticality  = 'Critical'\n",
    "        AND (created_timestamp BETWEEN (CURRENT_DATE-31) AND (CURRENT_DATE-1))\n",
    "    )\n",
    ")\n",
    "\n",
    "SELECT (SELECT pk_id FROM current_date_id) AS fk_date_id\n",
    ",(SELECT pk_id FROM current_kpi_id) AS fk_kpi_id\n",
    ",COUNT(CASE WHEN days_to_process <= 5 THEN 1 END) * 100.0 / COUNT(*) AS Value\n",
    "FROM selected_df"
   ]
  },
  {
   "cell_type": "markdown",
   "metadata": {},
   "source": [
    "### SQL Logic for KPI 10.2\n",
    "\n",
    "10.2 Batch 28\n",
    "for today-30 to today \\\n",
    "where criticality_rating = 'High' \\\n",
    "s1. count records \\\n",
    "s2. count records where closed_timestamp - created_timestamp <= 14 days \\\n",
    "s3. s2/s1*100"
   ]
  },
  {
   "cell_type": "code",
   "execution_count": null,
   "metadata": {},
   "outputs": [],
   "source": [
    "# SQL logic used in ETL_KPI_data_KPI10.2 in AWS Glue\n",
    "# Note, some functions have been changed to accomdate the change from SQLite to Postgres\n",
    "\n",
    "WITH current_date_id AS (\n",
    "    SELECT myDimDate.pk_id\n",
    "    FROM myDimDate\n",
    "    WHERE myDimDate.date = CURRENT_DATE\n",
    ")\n",
    ",\n",
    "current_kpi_id AS (\n",
    "    SELECT pk_id\n",
    "    FROM myDimKPI\n",
    "    WHERE kpi_reference = '10.2'\n",
    ")\n",
    ",\n",
    "selected_df AS (\n",
    "    SELECT *\n",
    "    ,EXTRACT(DAY FROM (closed_timestamp - created_timestamp)) AS days_to_process\n",
    "    FROM (\n",
    "        SELECT *\n",
    "        FROM df\n",
    "        WHERE criticality  = 'High'\n",
    "        AND (created_timestamp BETWEEN (CURRENT_DATE-31) AND (CURRENT_DATE-1))\n",
    "    )\n",
    ")\n",
    "\n",
    "SELECT (SELECT pk_id FROM current_date_id) AS fk_date_id\n",
    ",(SELECT pk_id FROM current_kpi_id) AS fk_kpi_id\n",
    ",SUM(CASE WHEN days_to_process <= 14 THEN 1 ELSE 0 END) * 100.0 / COUNT(*) AS Value\n",
    "FROM selected_df"
   ]
  }
 ],
 "metadata": {
  "kernelspec": {
   "display_name": "jupyterlab",
   "language": "python",
   "name": "python3"
  },
  "language_info": {
   "codemirror_mode": {
    "name": "ipython",
    "version": 3
   },
   "file_extension": ".py",
   "mimetype": "text/x-python",
   "name": "python",
   "nbconvert_exporter": "python",
   "pygments_lexer": "ipython3",
   "version": "3.12.2"
  }
 },
 "nbformat": 4,
 "nbformat_minor": 2
}
