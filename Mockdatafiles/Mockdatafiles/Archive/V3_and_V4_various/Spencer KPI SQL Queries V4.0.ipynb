{
 "cells": [
  {
   "cell_type": "code",
   "execution_count": 78,
   "id": "43d37941",
   "metadata": {},
   "outputs": [],
   "source": [
    "import pandas as pd\n",
    "import pandasql as ps\n",
    "from pandasql import sqldf\n",
    "import datetime\n",
    "import os"
   ]
  },
  {
   "cell_type": "code",
   "execution_count": 79,
   "id": "97c3a814",
   "metadata": {},
   "outputs": [],
   "source": [
    "filepath = \"C:/Users/spevans/OneDrive - Sopra Steria/Projects/NS&I\""
   ]
  },
  {
   "cell_type": "code",
   "execution_count": 80,
   "id": "7f133ce4",
   "metadata": {},
   "outputs": [],
   "source": [
    "#curr_dir = os.getcwd()\n",
    "#nicecxone_callanalytics_fp = f\"{curr_dir}\\\\nicecxone_callanalytics.parquet\""
   ]
  },
  {
   "cell_type": "code",
   "execution_count": 81,
   "id": "8e75a9fd",
   "metadata": {},
   "outputs": [
    {
     "data": {
      "text/plain": [
       "(['API_Logs.parquet',\n",
       "  'employees.parquet',\n",
       "  'message_information.parquet',\n",
       "  'multi_availability.parquet',\n",
       "  'multi_response.parquet',\n",
       "  'nicecxone_callanalytics.parquet',\n",
       "  'nicecxone_customersatisfaction.parquet',\n",
       "  'postout_bulk.parquet',\n",
       "  'ppa_cancellationnotification.parquet',\n",
       "  'request_information.parquet',\n",
       "  'servicenow_applicationcancellation.parquet',\n",
       "  'servicenow_applicationrejection.parquet',\n",
       "  'servicenow_bonding.parquet',\n",
       "  'servicenow_caseclosed.parquet',\n",
       "  'servicenow_casecreated.parquet',\n",
       "  'servicenow_casereopened.parquet',\n",
       "  'servicenow_changeincidents.parquet',\n",
       "  'servicenow_changerecordclosed.parquet',\n",
       "  'servicenow_changerecordopened.parquet',\n",
       "  'servicenow_changerecordupdated.parquet',\n",
       "  'servicenow_complaintresponse.parquet',\n",
       "  'servicenow_deployedfixes.parquet',\n",
       "  'servicenow_firstcontactresolution.parquet',\n",
       "  'servicenow_foscomplaint.parquet',\n",
       "  'servicenow_incidentclosed.parquet',\n",
       "  'servicenow_incidentopened.parquet',\n",
       "  'servicenow_permfixavailable.parquet',\n",
       "  'servicenow_rca.parquet',\n",
       "  'servicenow_resolvedissues.parquet',\n",
       "  'servicenow_servicerestored.parquet',\n",
       "  'service_now_cancelled_application.parquet',\n",
       "  'service_now_rejected_application.parquet',\n",
       "  'sps_chequedestroyed.parquet',\n",
       "  'sps_chequeprocessed.parquet',\n",
       "  'sps_chequereceived.parquet',\n",
       "  'sps_cherish_document_despatched.parquet',\n",
       "  'sps_cherish_document_received.parquet',\n",
       "  'sps_postoutrequests.parquet',\n",
       "  'wf_employeetrainings.parquet'],\n",
       " 39)"
      ]
     },
     "execution_count": 81,
     "metadata": {},
     "output_type": "execute_result"
    }
   ],
   "source": [
    "lst_parquet_files = os.listdir(filepath +'/mockfiles')\n",
    "lst_parquet_files,len(lst_parquet_files)"
   ]
  },
  {
   "cell_type": "code",
   "execution_count": 82,
   "id": "88902a77",
   "metadata": {},
   "outputs": [],
   "source": [
    "## calling in all dataframes\n",
    "\n",
    "df_API_Logs = pd.read_parquet(filepath+'/mockfiles/API_Logs.parquet')\n",
    "df_servicenow_changeincidents = pd.read_parquet(filepath+'/mockfiles/servicenow_changeincidents.parquet')\n"
   ]
  },
  {
   "cell_type": "code",
   "execution_count": 83,
   "id": "b02e638d",
   "metadata": {},
   "outputs": [],
   "source": [
    "## converting the date column to proper format\n",
    "\n",
    "df_API_Logs['message_call_timestamp']=pd.to_datetime(df_API_Logs['message_call_timestamp'], infer_datetime_format=True)\n",
    "df_API_Logs['message_recieved_timestamp']=pd.to_datetime(df_API_Logs['message_recieved_timestamp'], infer_datetime_format=True)\n",
    "\n",
    "df_servicenow_changeincidents['date_of_incident']=pd.to_datetime(df_servicenow_changeincidents['date_of_incident'],infer_datetime_format=True)\n",
    "df_servicenow_changeincidents['date_of_change']=pd.to_datetime(df_servicenow_changeincidents['date_of_change'],infer_datetime_format=True)"
   ]
  },
  {
   "cell_type": "code",
   "execution_count": 84,
   "id": "3f86e4a5",
   "metadata": {},
   "outputs": [],
   "source": [
    "df_API_Logs.to_parquet('C:/Users/spevans/OneDrive - Sopra Steria/Projects/NS&I/mockfiles/API_Logs.parquet')\n",
    "df_servicenow_changeincidents.to_parquet('C:/Users/spevans/OneDrive - Sopra Steria/Projects/NS&I/mockfiles/servicenow_changeincidents.parquet')"
   ]
  },
  {
   "cell_type": "markdown",
   "id": "465b17ba",
   "metadata": {},
   "source": [
    "### KPI 5.1\n",
    "Document Creation"
   ]
  },
  {
   "cell_type": "markdown",
   "id": "cad422f1",
   "metadata": {},
   "source": [
    "#### today-30 to today\n",
    "#### API_description = 'Document_View'\n",
    "#### s1.count records\n",
    "#### s2.time_to_view = message_received_timestamp - message_call_timestamp\n",
    "#### s3. count where time_to_view <= 2000MS\n",
    "#### s4. s3/s1*100"
   ]
  },
  {
   "cell_type": "code",
   "execution_count": 85,
   "id": "ae17313f",
   "metadata": {},
   "outputs": [
    {
     "name": "stdout",
     "output_type": "stream",
     "text": [
      "<class 'pandas.core.frame.DataFrame'>\n",
      "RangeIndex: 300 entries, 0 to 299\n",
      "Data columns (total 4 columns):\n",
      " #   Column                      Non-Null Count  Dtype         \n",
      "---  ------                      --------------  -----         \n",
      " 0   API_ID                      300 non-null    object        \n",
      " 1   API_description             300 non-null    object        \n",
      " 2   message_call_timestamp      300 non-null    datetime64[ns]\n",
      " 3   message_recieved_timestamp  300 non-null    datetime64[ns]\n",
      "dtypes: datetime64[ns](2), object(2)\n",
      "memory usage: 9.5+ KB\n"
     ]
    }
   ],
   "source": [
    "df_API_Logs.info()"
   ]
  },
  {
   "cell_type": "code",
   "execution_count": 128,
   "id": "9aa37a63",
   "metadata": {},
   "outputs": [
    {
     "name": "stdout",
     "output_type": "stream",
     "text": [
      "  PC_Sub_2\n",
      "0     None\n"
     ]
    }
   ],
   "source": [
    "sql_query = \"\"\"\n",
    "\n",
    "\n",
    "WITH selected_df AS (\n",
    "    SELECT *\n",
    "    ,strftime('%s', message_recieved_timestamp) - strftime('%s', message_call_timestamp) AS time_to_view\n",
    "    FROM df_API_Logs\n",
    "    WHERE API_description =\"Document View\" \n",
    "    AND (message_call_timestamp BETWEEN DATETIME('NOW','-30 days') AND DATETIME('NOW'))\n",
    ")\n",
    ",\n",
    "agg_results AS (\n",
    "SELECT COUNT(*) AS Total\n",
    ",SUM(CASE WHEN time_to_view <= 2 THEN 1 ELSE 0 END) AS sub_2_count\n",
    "FROM selected_df\n",
    ")\n",
    "\n",
    "SELECT (sub_2_count * 1.0 / Total) * 100 AS PC_Sub_2\n",
    "FROM agg_results\n",
    "\n",
    "\n",
    "\"\"\"\n",
    "\n",
    "print(sqldf(sql_query, locals()))"
   ]
  },
  {
   "cell_type": "code",
   "execution_count": 35,
   "id": "c2558163",
   "metadata": {},
   "outputs": [
    {
     "data": {
      "text/html": [
       "<div>\n",
       "<style scoped>\n",
       "    .dataframe tbody tr th:only-of-type {\n",
       "        vertical-align: middle;\n",
       "    }\n",
       "\n",
       "    .dataframe tbody tr th {\n",
       "        vertical-align: top;\n",
       "    }\n",
       "\n",
       "    .dataframe thead th {\n",
       "        text-align: right;\n",
       "    }\n",
       "</style>\n",
       "<table border=\"1\" class=\"dataframe\">\n",
       "  <thead>\n",
       "    <tr style=\"text-align: right;\">\n",
       "      <th></th>\n",
       "      <th>API_ID</th>\n",
       "      <th>API_description</th>\n",
       "      <th>message_call_timestamp</th>\n",
       "      <th>message_recieved_timestamp</th>\n",
       "    </tr>\n",
       "  </thead>\n",
       "  <tbody>\n",
       "    <tr>\n",
       "      <th>0</th>\n",
       "      <td>API001</td>\n",
       "      <td>Payment Gateway API</td>\n",
       "      <td>2024-06-04 03:48:06</td>\n",
       "      <td>2024-06-04 03:48:10</td>\n",
       "    </tr>\n",
       "    <tr>\n",
       "      <th>1</th>\n",
       "      <td>API002</td>\n",
       "      <td>User Management API</td>\n",
       "      <td>2024-02-24 13:05:40</td>\n",
       "      <td>2024-02-24 13:05:44</td>\n",
       "    </tr>\n",
       "    <tr>\n",
       "      <th>2</th>\n",
       "      <td>API003</td>\n",
       "      <td>Payment Gateway API</td>\n",
       "      <td>2024-11-03 21:18:09</td>\n",
       "      <td>2024-11-03 21:18:12</td>\n",
       "    </tr>\n",
       "    <tr>\n",
       "      <th>3</th>\n",
       "      <td>API004</td>\n",
       "      <td>User Management API</td>\n",
       "      <td>2024-06-01 14:37:32</td>\n",
       "      <td>2024-06-01 14:37:33</td>\n",
       "    </tr>\n",
       "    <tr>\n",
       "      <th>4</th>\n",
       "      <td>API005</td>\n",
       "      <td>Product Catalog API</td>\n",
       "      <td>2024-09-02 12:32:50</td>\n",
       "      <td>2024-09-02 12:32:51</td>\n",
       "    </tr>\n",
       "    <tr>\n",
       "      <th>...</th>\n",
       "      <td>...</td>\n",
       "      <td>...</td>\n",
       "      <td>...</td>\n",
       "      <td>...</td>\n",
       "    </tr>\n",
       "    <tr>\n",
       "      <th>295</th>\n",
       "      <td>API296</td>\n",
       "      <td>Product Catalog API</td>\n",
       "      <td>2024-04-15 17:51:04</td>\n",
       "      <td>2024-04-15 17:51:08</td>\n",
       "    </tr>\n",
       "    <tr>\n",
       "      <th>296</th>\n",
       "      <td>API297</td>\n",
       "      <td>Payment Gateway API</td>\n",
       "      <td>2024-01-21 16:26:41</td>\n",
       "      <td>2024-01-21 16:26:42</td>\n",
       "    </tr>\n",
       "    <tr>\n",
       "      <th>297</th>\n",
       "      <td>API298</td>\n",
       "      <td>User Management API</td>\n",
       "      <td>2024-05-03 22:26:50</td>\n",
       "      <td>2024-05-03 22:26:51</td>\n",
       "    </tr>\n",
       "    <tr>\n",
       "      <th>298</th>\n",
       "      <td>API299</td>\n",
       "      <td>Product Catalog API</td>\n",
       "      <td>2024-01-02 09:28:13</td>\n",
       "      <td>2024-01-02 09:28:16</td>\n",
       "    </tr>\n",
       "    <tr>\n",
       "      <th>299</th>\n",
       "      <td>API300</td>\n",
       "      <td>Product Catalog API</td>\n",
       "      <td>2024-09-01 13:19:29</td>\n",
       "      <td>2024-09-01 13:19:32</td>\n",
       "    </tr>\n",
       "  </tbody>\n",
       "</table>\n",
       "<p>300 rows × 4 columns</p>\n",
       "</div>"
      ],
      "text/plain": [
       "     API_ID      API_description message_call_timestamp  \\\n",
       "0    API001  Payment Gateway API    2024-06-04 03:48:06   \n",
       "1    API002  User Management API    2024-02-24 13:05:40   \n",
       "2    API003  Payment Gateway API    2024-11-03 21:18:09   \n",
       "3    API004  User Management API    2024-06-01 14:37:32   \n",
       "4    API005  Product Catalog API    2024-09-02 12:32:50   \n",
       "..      ...                  ...                    ...   \n",
       "295  API296  Product Catalog API    2024-04-15 17:51:04   \n",
       "296  API297  Payment Gateway API    2024-01-21 16:26:41   \n",
       "297  API298  User Management API    2024-05-03 22:26:50   \n",
       "298  API299  Product Catalog API    2024-01-02 09:28:13   \n",
       "299  API300  Product Catalog API    2024-09-01 13:19:29   \n",
       "\n",
       "    message_recieved_timestamp  \n",
       "0          2024-06-04 03:48:10  \n",
       "1          2024-02-24 13:05:44  \n",
       "2          2024-11-03 21:18:12  \n",
       "3          2024-06-01 14:37:33  \n",
       "4          2024-09-02 12:32:51  \n",
       "..                         ...  \n",
       "295        2024-04-15 17:51:08  \n",
       "296        2024-01-21 16:26:42  \n",
       "297        2024-05-03 22:26:51  \n",
       "298        2024-01-02 09:28:16  \n",
       "299        2024-09-01 13:19:32  \n",
       "\n",
       "[300 rows x 4 columns]"
      ]
     },
     "execution_count": 35,
     "metadata": {},
     "output_type": "execute_result"
    }
   ],
   "source": [
    "df_API_Logs"
   ]
  },
  {
   "cell_type": "markdown",
   "id": "4218ddd3",
   "metadata": {},
   "source": [
    "### KPI 11.11\n",
    "Post Release Incident Rate\n",
    "No releases shall cause a P1 or P2 incident in the live environment"
   ]
  },
  {
   "cell_type": "markdown",
   "id": "82285e42",
   "metadata": {},
   "source": [
    "#### for today-30 to today\n",
    "#### count where incident_Priority- = 1\n",
    "#### count where incident_Priority = 2"
   ]
  },
  {
   "cell_type": "code",
   "execution_count": 129,
   "id": "72d244e7",
   "metadata": {},
   "outputs": [
    {
     "name": "stdout",
     "output_type": "stream",
     "text": [
      "<class 'pandas.core.frame.DataFrame'>\n",
      "RangeIndex: 100 entries, 0 to 99\n",
      "Data columns (total 5 columns):\n",
      " #   Column             Non-Null Count  Dtype         \n",
      "---  ------             --------------  -----         \n",
      " 0   incident_id        100 non-null    object        \n",
      " 1   change_id          100 non-null    object        \n",
      " 2   date_of_incident   100 non-null    datetime64[ns]\n",
      " 3   date_of_change     100 non-null    datetime64[ns]\n",
      " 4   incident_priority  100 non-null    int64         \n",
      "dtypes: datetime64[ns](2), int64(1), object(2)\n",
      "memory usage: 4.0+ KB\n"
     ]
    }
   ],
   "source": [
    "df_servicenow_changeincidents.info()"
   ]
  },
  {
   "cell_type": "code",
   "execution_count": 140,
   "id": "6ba0f1bd",
   "metadata": {},
   "outputs": [
    {
     "name": "stdout",
     "output_type": "stream",
     "text": [
      "   priority_1_count  priority_2_count\n",
      "0                 0                 0\n"
     ]
    }
   ],
   "source": [
    "sql_query = \"\"\"\n",
    "\n",
    "SELECT\n",
    "    (SELECT COUNT(*) FROM df_servicenow_changeincidents WHERE incident_Priority =1 AND date_of_incident >= DATE('now', '-30 days')) AS priority_1_count,\n",
    "    (SELECT COUNT(*) FROM df_servicenow_changeincidents WHERE incident_Priority =2 AND date_of_incident >= DATE('now', '-30 days')) AS priority_2_count;\n",
    "\n",
    "\"\"\"\n",
    "\n",
    "print(sqldf(sql_query, locals()))"
   ]
  },
  {
   "cell_type": "code",
   "execution_count": 131,
   "id": "0b063622",
   "metadata": {},
   "outputs": [
    {
     "data": {
      "text/html": [
       "<div>\n",
       "<style scoped>\n",
       "    .dataframe tbody tr th:only-of-type {\n",
       "        vertical-align: middle;\n",
       "    }\n",
       "\n",
       "    .dataframe tbody tr th {\n",
       "        vertical-align: top;\n",
       "    }\n",
       "\n",
       "    .dataframe thead th {\n",
       "        text-align: right;\n",
       "    }\n",
       "</style>\n",
       "<table border=\"1\" class=\"dataframe\">\n",
       "  <thead>\n",
       "    <tr style=\"text-align: right;\">\n",
       "      <th></th>\n",
       "      <th>incident_id</th>\n",
       "      <th>change_id</th>\n",
       "      <th>date_of_incident</th>\n",
       "      <th>date_of_change</th>\n",
       "      <th>incident_priority</th>\n",
       "    </tr>\n",
       "  </thead>\n",
       "  <tbody>\n",
       "    <tr>\n",
       "      <th>0</th>\n",
       "      <td>INC25</td>\n",
       "      <td>CHG99</td>\n",
       "      <td>2023-12-20 14:39:00</td>\n",
       "      <td>2023-12-21 14:39:00</td>\n",
       "      <td>1</td>\n",
       "    </tr>\n",
       "    <tr>\n",
       "      <th>1</th>\n",
       "      <td>INC86</td>\n",
       "      <td>CHG55</td>\n",
       "      <td>2023-12-02 06:01:00</td>\n",
       "      <td>2023-12-03 06:01:00</td>\n",
       "      <td>1</td>\n",
       "    </tr>\n",
       "    <tr>\n",
       "      <th>2</th>\n",
       "      <td>INC49</td>\n",
       "      <td>CHG13</td>\n",
       "      <td>2023-12-19 00:17:00</td>\n",
       "      <td>2023-12-20 00:17:00</td>\n",
       "      <td>1</td>\n",
       "    </tr>\n",
       "    <tr>\n",
       "      <th>3</th>\n",
       "      <td>INC23</td>\n",
       "      <td>CHG8</td>\n",
       "      <td>2023-12-02 01:27:00</td>\n",
       "      <td>2023-12-03 01:27:00</td>\n",
       "      <td>1</td>\n",
       "    </tr>\n",
       "    <tr>\n",
       "      <th>4</th>\n",
       "      <td>INC2</td>\n",
       "      <td>CHG22</td>\n",
       "      <td>2023-12-07 02:20:00</td>\n",
       "      <td>2023-12-08 02:20:00</td>\n",
       "      <td>2</td>\n",
       "    </tr>\n",
       "    <tr>\n",
       "      <th>...</th>\n",
       "      <td>...</td>\n",
       "      <td>...</td>\n",
       "      <td>...</td>\n",
       "      <td>...</td>\n",
       "      <td>...</td>\n",
       "    </tr>\n",
       "    <tr>\n",
       "      <th>95</th>\n",
       "      <td>INC32</td>\n",
       "      <td>CHG62</td>\n",
       "      <td>2023-12-18 07:47:00</td>\n",
       "      <td>2023-12-19 07:47:00</td>\n",
       "      <td>2</td>\n",
       "    </tr>\n",
       "    <tr>\n",
       "      <th>96</th>\n",
       "      <td>INC64</td>\n",
       "      <td>CHG21</td>\n",
       "      <td>2023-12-11 23:07:00</td>\n",
       "      <td>2023-12-12 23:07:00</td>\n",
       "      <td>1</td>\n",
       "    </tr>\n",
       "    <tr>\n",
       "      <th>97</th>\n",
       "      <td>INC8</td>\n",
       "      <td>CHG47</td>\n",
       "      <td>2023-12-12 19:01:00</td>\n",
       "      <td>2023-12-13 19:01:00</td>\n",
       "      <td>1</td>\n",
       "    </tr>\n",
       "    <tr>\n",
       "      <th>98</th>\n",
       "      <td>INC55</td>\n",
       "      <td>CHG79</td>\n",
       "      <td>2023-12-01 02:02:00</td>\n",
       "      <td>2023-12-02 02:02:00</td>\n",
       "      <td>1</td>\n",
       "    </tr>\n",
       "    <tr>\n",
       "      <th>99</th>\n",
       "      <td>INC59</td>\n",
       "      <td>CHG59</td>\n",
       "      <td>2023-12-08 15:13:00</td>\n",
       "      <td>2023-12-09 15:13:00</td>\n",
       "      <td>1</td>\n",
       "    </tr>\n",
       "  </tbody>\n",
       "</table>\n",
       "<p>100 rows × 5 columns</p>\n",
       "</div>"
      ],
      "text/plain": [
       "   incident_id change_id    date_of_incident      date_of_change  \\\n",
       "0        INC25     CHG99 2023-12-20 14:39:00 2023-12-21 14:39:00   \n",
       "1        INC86     CHG55 2023-12-02 06:01:00 2023-12-03 06:01:00   \n",
       "2        INC49     CHG13 2023-12-19 00:17:00 2023-12-20 00:17:00   \n",
       "3        INC23      CHG8 2023-12-02 01:27:00 2023-12-03 01:27:00   \n",
       "4         INC2     CHG22 2023-12-07 02:20:00 2023-12-08 02:20:00   \n",
       "..         ...       ...                 ...                 ...   \n",
       "95       INC32     CHG62 2023-12-18 07:47:00 2023-12-19 07:47:00   \n",
       "96       INC64     CHG21 2023-12-11 23:07:00 2023-12-12 23:07:00   \n",
       "97        INC8     CHG47 2023-12-12 19:01:00 2023-12-13 19:01:00   \n",
       "98       INC55     CHG79 2023-12-01 02:02:00 2023-12-02 02:02:00   \n",
       "99       INC59     CHG59 2023-12-08 15:13:00 2023-12-09 15:13:00   \n",
       "\n",
       "    incident_priority  \n",
       "0                   1  \n",
       "1                   1  \n",
       "2                   1  \n",
       "3                   1  \n",
       "4                   2  \n",
       "..                ...  \n",
       "95                  2  \n",
       "96                  1  \n",
       "97                  1  \n",
       "98                  1  \n",
       "99                  1  \n",
       "\n",
       "[100 rows x 5 columns]"
      ]
     },
     "execution_count": 131,
     "metadata": {},
     "output_type": "execute_result"
    }
   ],
   "source": [
    "df_servicenow_changeincidents"
   ]
  },
  {
   "cell_type": "code",
   "execution_count": null,
   "id": "8689217c",
   "metadata": {},
   "outputs": [],
   "source": []
  }
 ],
 "metadata": {
  "kernelspec": {
   "display_name": "Python 3",
   "language": "python",
   "name": "python3"
  },
  "language_info": {
   "codemirror_mode": {
    "name": "ipython",
    "version": 3
   },
   "file_extension": ".py",
   "mimetype": "text/x-python",
   "name": "python",
   "nbconvert_exporter": "python",
   "pygments_lexer": "ipython3",
   "version": "3.8.8"
  }
 },
 "nbformat": 4,
 "nbformat_minor": 5
}
