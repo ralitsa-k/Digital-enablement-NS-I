{
 "cells": [
  {
   "cell_type": "code",
   "execution_count": 13,
   "id": "43d37941",
   "metadata": {},
   "outputs": [],
   "source": [
    "import pandas as pd\n",
    "import pandasql as ps\n",
    "from pandasql import sqldf\n",
    "import datetime\n",
    "import os"
   ]
  },
  {
   "cell_type": "code",
   "execution_count": 14,
   "id": "97c3a814",
   "metadata": {},
   "outputs": [],
   "source": [
    "filepath = \"C:/Users/spevans/OneDrive - Sopra Steria/Projects/NS&I\""
   ]
  },
  {
   "cell_type": "code",
   "execution_count": 15,
   "id": "8e75a9fd",
   "metadata": {},
   "outputs": [
    {
     "data": {
      "text/plain": [
       "(['API_Logs.parquet',\n",
       "  'audits.parquet',\n",
       "  'availability.parquet',\n",
       "  'employees.parquet',\n",
       "  'message_information.parquet',\n",
       "  'multi_availability.parquet',\n",
       "  'multi_response.parquet',\n",
       "  'nicecxone_callanalytics.parquet',\n",
       "  'nicecxone_customersatisfaction.parquet',\n",
       "  'postout_bulk.parquet',\n",
       "  'ppa_cancellationnotification.parquet',\n",
       "  'request_information.parquet',\n",
       "  'servicenow_applicationcancellation.parquet',\n",
       "  'servicenow_applicationrejection.parquet',\n",
       "  'servicenow_bonding.parquet',\n",
       "  'servicenow_caseclosed.parquet',\n",
       "  'servicenow_casecreated.parquet',\n",
       "  'servicenow_casereopened.parquet',\n",
       "  'servicenow_changeincidents.parquet',\n",
       "  'servicenow_changerecordclosed.parquet',\n",
       "  'servicenow_changerecordopened.parquet',\n",
       "  'servicenow_changerecordupdated.parquet',\n",
       "  'servicenow_complaintresponse.parquet',\n",
       "  'servicenow_deployedfixes.parquet',\n",
       "  'servicenow_firstcontactresolution.parquet',\n",
       "  'servicenow_foscomplaint.parquet',\n",
       "  'servicenow_incidentclosed.parquet',\n",
       "  'servicenow_incidentopened.parquet',\n",
       "  'servicenow_permfixavailable.parquet',\n",
       "  'servicenow_rca.parquet',\n",
       "  'servicenow_resolvedissues.parquet',\n",
       "  'servicenow_servicerestored.parquet',\n",
       "  'service_now_cancelled_application.parquet',\n",
       "  'service_now_rejected_application.parquet',\n",
       "  'sps_chequedestroyed.parquet',\n",
       "  'sps_chequeprocessed.parquet',\n",
       "  'sps_chequereceived.parquet',\n",
       "  'sps_cherish_document_despatched.parquet',\n",
       "  'sps_cherish_document_received.parquet',\n",
       "  'sps_postoutrequests.parquet',\n",
       "  'wf_employeetrainings.parquet'],\n",
       " 41)"
      ]
     },
     "execution_count": 15,
     "metadata": {},
     "output_type": "execute_result"
    }
   ],
   "source": [
    "lst_parquet_files = os.listdir(filepath +'/mockfiles')\n",
    "lst_parquet_files,len(lst_parquet_files)"
   ]
  },
  {
   "cell_type": "code",
   "execution_count": 16,
   "id": "88902a77",
   "metadata": {},
   "outputs": [],
   "source": [
    "## calling in all dataframes\n",
    "\n",
    "df_audits = pd.read_parquet(filepath+'/mockfiles/audits.parquet')\n",
    "df_availability = pd.read_parquet(filepath+'/mockfiles/availability.parquet')\n"
   ]
  },
  {
   "cell_type": "code",
   "execution_count": 17,
   "id": "8805f1bb",
   "metadata": {},
   "outputs": [
    {
     "name": "stdout",
     "output_type": "stream",
     "text": [
      "<class 'pandas.core.frame.DataFrame'>\n",
      "RangeIndex: 300 entries, 0 to 299\n",
      "Data columns (total 4 columns):\n",
      " #   Column             Non-Null Count  Dtype         \n",
      "---  ------             --------------  -----         \n",
      " 0   call_id            300 non-null    object        \n",
      " 1   call_system        300 non-null    object        \n",
      " 2   call_response      300 non-null    object        \n",
      " 3   created_timestamp  300 non-null    datetime64[ns]\n",
      "dtypes: datetime64[ns](1), object(3)\n",
      "memory usage: 9.5+ KB\n"
     ]
    }
   ],
   "source": [
    "df_availability.info()"
   ]
  },
  {
   "cell_type": "code",
   "execution_count": 18,
   "id": "b02e638d",
   "metadata": {},
   "outputs": [],
   "source": [
    "## converting the date column to proper format\n",
    "\n",
    "df_audits['date_raised']=pd.to_datetime(df_audits['date_raised'], infer_datetime_format=True)\n",
    "df_audits['resolution_due_date']=pd.to_datetime(df_audits['resolution_due_date'], infer_datetime_format=True)\n",
    "\n",
    "df_availability['created_timestamp']=pd.to_datetime(df_availability['created_timestamp'],infer_datetime_format=True)\n"
   ]
  },
  {
   "cell_type": "code",
   "execution_count": 19,
   "id": "3f86e4a5",
   "metadata": {},
   "outputs": [],
   "source": [
    "df_audits.to_parquet('C:/Users/spevans/OneDrive - Sopra Steria/Projects/NS&I/mockfiles/audits.parquet')\n",
    "df_availability.to_parquet('C:/Users/spevans/OneDrive - Sopra Steria/Projects/NS&I/mockfiles/availability.parquet')"
   ]
  },
  {
   "cell_type": "markdown",
   "id": "465b17ba",
   "metadata": {},
   "source": [
    "### KPI 7.4\n",
    "Audit and Compliance Actions\n",
    "Open actions related to audit and compliance. "
   ]
  },
  {
   "cell_type": "markdown",
   "id": "cad422f1",
   "metadata": {},
   "source": [
    "#### count records where todaydate - resolution_due_date > 30 days"
   ]
  },
  {
   "cell_type": "code",
   "execution_count": 22,
   "id": "069ebe37",
   "metadata": {},
   "outputs": [
    {
     "name": "stdout",
     "output_type": "stream",
     "text": [
      "<class 'pandas.core.frame.DataFrame'>\n",
      "RangeIndex: 300 entries, 0 to 299\n",
      "Data columns (total 3 columns):\n",
      " #   Column               Non-Null Count  Dtype         \n",
      "---  ------               --------------  -----         \n",
      " 0   audit_id             300 non-null    object        \n",
      " 1   date_raised          300 non-null    datetime64[ns]\n",
      " 2   resolution_due_date  300 non-null    datetime64[ns]\n",
      "dtypes: datetime64[ns](2), object(1)\n",
      "memory usage: 7.2+ KB\n"
     ]
    }
   ],
   "source": [
    "df_audits.info()"
   ]
  },
  {
   "cell_type": "code",
   "execution_count": 31,
   "id": "9aa37a63",
   "metadata": {},
   "outputs": [
    {
     "name": "stdout",
     "output_type": "stream",
     "text": [
      "   open_actions\n",
      "0           115\n"
     ]
    }
   ],
   "source": [
    "sql_query = \"\"\"\n",
    "\n",
    "SELECT COUNT(*) AS open_actions\n",
    "FROM df_audits\n",
    "WHERE julianday('now') - julianday(resolution_due_date) > 30;\n",
    "\n",
    "\"\"\"\n",
    "\n",
    "print(sqldf(sql_query, locals()))"
   ]
  },
  {
   "cell_type": "markdown",
   "id": "4218ddd3",
   "metadata": {},
   "source": [
    "### KPI 9.1\n",
    "Availability \n",
    "Documents View  \n",
    "The availability of the Documents viewing services to enable Customers, users and other services to access and view documents."
   ]
  },
  {
   "cell_type": "markdown",
   "id": "82285e42",
   "metadata": {},
   "source": [
    "#### for today-30 to today\n",
    "#### where call_system = Alfresco\n",
    "#### s1. count records\n",
    "#### s2. count records where call_response = 'Positive'\n",
    "#### s3. s2/s1*100"
   ]
  },
  {
   "cell_type": "code",
   "execution_count": 32,
   "id": "6c646e48",
   "metadata": {},
   "outputs": [
    {
     "data": {
      "text/html": [
       "<div>\n",
       "<style scoped>\n",
       "    .dataframe tbody tr th:only-of-type {\n",
       "        vertical-align: middle;\n",
       "    }\n",
       "\n",
       "    .dataframe tbody tr th {\n",
       "        vertical-align: top;\n",
       "    }\n",
       "\n",
       "    .dataframe thead th {\n",
       "        text-align: right;\n",
       "    }\n",
       "</style>\n",
       "<table border=\"1\" class=\"dataframe\">\n",
       "  <thead>\n",
       "    <tr style=\"text-align: right;\">\n",
       "      <th></th>\n",
       "      <th>call_id</th>\n",
       "      <th>call_system</th>\n",
       "      <th>call_response</th>\n",
       "      <th>created_timestamp</th>\n",
       "    </tr>\n",
       "  </thead>\n",
       "  <tbody>\n",
       "    <tr>\n",
       "      <th>0</th>\n",
       "      <td>CALL001</td>\n",
       "      <td>Alfresco</td>\n",
       "      <td>Negative</td>\n",
       "      <td>2024-01-01 14:49:00</td>\n",
       "    </tr>\n",
       "    <tr>\n",
       "      <th>1</th>\n",
       "      <td>CALL002</td>\n",
       "      <td>Alfresco</td>\n",
       "      <td>Negative</td>\n",
       "      <td>2024-02-01 14:33:00</td>\n",
       "    </tr>\n",
       "    <tr>\n",
       "      <th>2</th>\n",
       "      <td>CALL003</td>\n",
       "      <td>Poly AI</td>\n",
       "      <td>Negative</td>\n",
       "      <td>2024-02-01 17:44:00</td>\n",
       "    </tr>\n",
       "    <tr>\n",
       "      <th>3</th>\n",
       "      <td>CALL004</td>\n",
       "      <td>Alfresco</td>\n",
       "      <td>Neutral</td>\n",
       "      <td>2024-03-01 10:54:00</td>\n",
       "    </tr>\n",
       "    <tr>\n",
       "      <th>4</th>\n",
       "      <td>CALL005</td>\n",
       "      <td>Poly AI</td>\n",
       "      <td>Neutral</td>\n",
       "      <td>2024-03-01 13:03:00</td>\n",
       "    </tr>\n",
       "    <tr>\n",
       "      <th>...</th>\n",
       "      <td>...</td>\n",
       "      <td>...</td>\n",
       "      <td>...</td>\n",
       "      <td>...</td>\n",
       "    </tr>\n",
       "    <tr>\n",
       "      <th>295</th>\n",
       "      <td>CALL296</td>\n",
       "      <td>Alfresco</td>\n",
       "      <td>Neutral</td>\n",
       "      <td>2024-06-29 10:04:00</td>\n",
       "    </tr>\n",
       "    <tr>\n",
       "      <th>296</th>\n",
       "      <td>CALL297</td>\n",
       "      <td>Poly AI</td>\n",
       "      <td>Negative</td>\n",
       "      <td>2024-06-29 14:50:00</td>\n",
       "    </tr>\n",
       "    <tr>\n",
       "      <th>297</th>\n",
       "      <td>CALL298</td>\n",
       "      <td>Poly AI</td>\n",
       "      <td>Positive</td>\n",
       "      <td>2024-06-29 17:56:00</td>\n",
       "    </tr>\n",
       "    <tr>\n",
       "      <th>298</th>\n",
       "      <td>CALL299</td>\n",
       "      <td>Alfresco</td>\n",
       "      <td>Positive</td>\n",
       "      <td>2024-06-30 10:05:00</td>\n",
       "    </tr>\n",
       "    <tr>\n",
       "      <th>299</th>\n",
       "      <td>CALL300</td>\n",
       "      <td>Poly AI</td>\n",
       "      <td>Positive</td>\n",
       "      <td>2024-06-30 17:56:00</td>\n",
       "    </tr>\n",
       "  </tbody>\n",
       "</table>\n",
       "<p>300 rows × 4 columns</p>\n",
       "</div>"
      ],
      "text/plain": [
       "     call_id call_system call_response   created_timestamp\n",
       "0    CALL001    Alfresco      Negative 2024-01-01 14:49:00\n",
       "1    CALL002    Alfresco      Negative 2024-02-01 14:33:00\n",
       "2    CALL003     Poly AI      Negative 2024-02-01 17:44:00\n",
       "3    CALL004    Alfresco       Neutral 2024-03-01 10:54:00\n",
       "4    CALL005     Poly AI       Neutral 2024-03-01 13:03:00\n",
       "..       ...         ...           ...                 ...\n",
       "295  CALL296    Alfresco       Neutral 2024-06-29 10:04:00\n",
       "296  CALL297     Poly AI      Negative 2024-06-29 14:50:00\n",
       "297  CALL298     Poly AI      Positive 2024-06-29 17:56:00\n",
       "298  CALL299    Alfresco      Positive 2024-06-30 10:05:00\n",
       "299  CALL300     Poly AI      Positive 2024-06-30 17:56:00\n",
       "\n",
       "[300 rows x 4 columns]"
      ]
     },
     "execution_count": 32,
     "metadata": {},
     "output_type": "execute_result"
    }
   ],
   "source": [
    "df_availability"
   ]
  },
  {
   "cell_type": "code",
   "execution_count": 38,
   "id": "6ba0f1bd",
   "metadata": {},
   "outputs": [
    {
     "name": "stdout",
     "output_type": "stream",
     "text": [
      "   positive_count\n",
      "0           31.25\n"
     ]
    }
   ],
   "source": [
    "sql_query = \"\"\"\n",
    "\n",
    "WITH selected_df AS (\n",
    "    SELECT *\n",
    "    FROM df_availability\n",
    "    WHERE call_system =\"Alfresco\" \n",
    "    AND (created_timestamp BETWEEN DATETIME('NOW','-30 days') AND DATETIME('NOW'))\n",
    ")\n",
    ",\n",
    "agg_results AS (\n",
    "SELECT COUNT(*) AS Total\n",
    ",SUM(CASE WHEN call_response = 'Positive' THEN 1 ELSE 0 END) AS positive_call_response\n",
    "FROM selected_df\n",
    ")\n",
    "\n",
    "SELECT (positive_call_response * 1.0 / Total) * 100 AS positive_count\n",
    "FROM agg_results\n",
    "\n",
    "\"\"\"\n",
    "print(sqldf(sql_query, locals()))"
   ]
  },
  {
   "cell_type": "code",
   "execution_count": null,
   "id": "8689217c",
   "metadata": {},
   "outputs": [],
   "source": []
  }
 ],
 "metadata": {
  "kernelspec": {
   "display_name": "Python 3",
   "language": "python",
   "name": "python3"
  },
  "language_info": {
   "codemirror_mode": {
    "name": "ipython",
    "version": 3
   },
   "file_extension": ".py",
   "mimetype": "text/x-python",
   "name": "python",
   "nbconvert_exporter": "python",
   "pygments_lexer": "ipython3",
   "version": "3.8.8"
  }
 },
 "nbformat": 4,
 "nbformat_minor": 5
}
